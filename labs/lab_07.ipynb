{
 "cells": [
  {
   "cell_type": "markdown",
   "metadata": {},
   "source": [
    "# MAT281 - Laboratorios N°07"
   ]
  },
  {
   "cell_type": "markdown",
   "metadata": {},
   "source": [
    "<a id='p1'></a>\n",
    "## I.- Problema 01\n",
    "\n",
    "\n",
    "<img src=\"https://upload.wikimedia.org/wikipedia/commons/thumb/b/b6/Anscombe.svg/1200px-Anscombe.svg.png\" width=\"360\" height=\"360\" align=\"center\"/>\n",
    "\n"
   ]
  },
  {
   "cell_type": "markdown",
   "metadata": {},
   "source": [
    "El **cuarteto de Anscombe** comprende cuatro conjuntos de datos que tienen las mismas propiedades estadísticas, pero que evidentemente son distintas al inspeccionar sus gráficos respectivos.\n",
    "\n",
    "Cada conjunto consiste de once puntos (x, y) y fueron construidos por el estadístico F. J. Anscombe. El cuarteto es una demostración de la importancia de mirar gráficamente un conjunto de datos antes de analizarlos."
   ]
  },
  {
   "cell_type": "code",
   "execution_count": 1,
   "metadata": {},
   "outputs": [],
   "source": [
    "import os\n",
    "import numpy as np\n",
    "import pandas as pd\n",
    "import matplotlib.pyplot as plt\n",
    "import seaborn as sns\n",
    "\n",
    "%matplotlib inline\n",
    "sns.set_palette(\"deep\", desat=.6)\n",
    "sns.set(rc={'figure.figsize':(11.7,8.27)})"
   ]
  },
  {
   "cell_type": "code",
   "execution_count": 2,
   "metadata": {},
   "outputs": [
    {
     "data": {
      "text/html": [
       "<div>\n",
       "<style scoped>\n",
       "    .dataframe tbody tr th:only-of-type {\n",
       "        vertical-align: middle;\n",
       "    }\n",
       "\n",
       "    .dataframe tbody tr th {\n",
       "        vertical-align: top;\n",
       "    }\n",
       "\n",
       "    .dataframe thead th {\n",
       "        text-align: right;\n",
       "    }\n",
       "</style>\n",
       "<table border=\"1\" class=\"dataframe\">\n",
       "  <thead>\n",
       "    <tr style=\"text-align: right;\">\n",
       "      <th></th>\n",
       "      <th>x</th>\n",
       "      <th>y</th>\n",
       "      <th>grupo</th>\n",
       "    </tr>\n",
       "  </thead>\n",
       "  <tbody>\n",
       "    <tr>\n",
       "      <th>0</th>\n",
       "      <td>10</td>\n",
       "      <td>8.04</td>\n",
       "      <td>Grupo_1</td>\n",
       "    </tr>\n",
       "    <tr>\n",
       "      <th>1</th>\n",
       "      <td>8</td>\n",
       "      <td>6.95</td>\n",
       "      <td>Grupo_1</td>\n",
       "    </tr>\n",
       "    <tr>\n",
       "      <th>2</th>\n",
       "      <td>13</td>\n",
       "      <td>7.58</td>\n",
       "      <td>Grupo_1</td>\n",
       "    </tr>\n",
       "    <tr>\n",
       "      <th>3</th>\n",
       "      <td>9</td>\n",
       "      <td>8.81</td>\n",
       "      <td>Grupo_1</td>\n",
       "    </tr>\n",
       "    <tr>\n",
       "      <th>4</th>\n",
       "      <td>11</td>\n",
       "      <td>8.33</td>\n",
       "      <td>Grupo_1</td>\n",
       "    </tr>\n",
       "  </tbody>\n",
       "</table>\n",
       "</div>"
      ],
      "text/plain": [
       "    x     y    grupo\n",
       "0  10  8.04  Grupo_1\n",
       "1   8  6.95  Grupo_1\n",
       "2  13  7.58  Grupo_1\n",
       "3   9  8.81  Grupo_1\n",
       "4  11  8.33  Grupo_1"
      ]
     },
     "execution_count": 2,
     "metadata": {},
     "output_type": "execute_result"
    }
   ],
   "source": [
    "# cargar datos\n",
    "df = pd.read_csv(os.path.join(\"data\",\"anscombe.csv\"), sep=\",\")\n",
    "df.head()"
   ]
  },
  {
   "cell_type": "markdown",
   "metadata": {},
   "source": [
    "Basado en la información presentada responda las siguientes preguntas:\n",
    "\n",
    "1. Gráfique mediante un gráfico tipo **scatter** cada grupo. A simple vista, ¿ los grupos son muy distintos entre si?.\n",
    "2. Realice un resumen de las medidas estadísticas más significativas ocuapando el comando **describe** para cada grupo. Interprete.\n",
    "3. Realice un ajuste lineal para cada grupo. Además, grafique los resultados de la regresión lineal para cada grupo. Interprete.\n",
    "4. Calcule los resultados de las métricas para cada grupo. Interprete.\n",
    "5. Es claro que el ajuste lineal para algunos grupos no es el correcto. Existen varias formas de solucionar este problema (eliminar outliers, otros modelos, etc.). Identifique una estrategia para que el modelo de regresión lineal ajuste de mejor manera e implemente otros modelos en los casos que encuentre necesario.  "
   ]
  },
  {
   "cell_type": "markdown",
   "metadata": {},
   "source": [
    "# Desarrollo"
   ]
  },
  {
   "cell_type": "markdown",
   "metadata": {},
   "source": [
    "## Pregunta 1"
   ]
  },
  {
   "cell_type": "markdown",
   "metadata": {},
   "source": [
    "Gráfique mediante un gráfico tipo **scatter** cada grupo. A simple vista, ¿ los grupos son muy distintos entre si?."
   ]
  },
  {
   "cell_type": "code",
   "execution_count": 3,
   "metadata": {},
   "outputs": [
    {
     "data": {
      "text/plain": [
       "<AxesSubplot:xlabel='x', ylabel='y'>"
      ]
     },
     "execution_count": 3,
     "metadata": {},
     "output_type": "execute_result"
    },
    {
     "data": {
      "image/png": "[encoded data removed]",
      "text/plain": [
       "<Figure size 842.4x595.44 with 1 Axes>"
      ]
     },
     "metadata": {},
     "output_type": "display_data"
    }
   ],
   "source": [
    "#scatter para todo el datoframe\n",
    "sns.scatterplot(data=df, x=\"x\", y=\"y\")"
   ]
  },
  {
   "cell_type": "code",
   "execution_count": 4,
   "metadata": {},
   "outputs": [
    {
     "data": {
      "image/png": "[encoded data removed]",
      "text/plain": [
       "<Figure size 842.4x595.44 with 1 Axes>"
      ]
     },
     "metadata": {},
     "output_type": "display_data"
    }
   ],
   "source": [
    "#scatter separdo por grupos\n",
    "fig,ax = plt.subplots()\n",
    "for i in range(1,5):\n",
    "    i = 'Grupo_'+str(i)\n",
    "    df_aux = df.loc[df['grupo']== i]\n",
    "    x_axis = df_aux['x']\n",
    "    y_axis = df_aux['y']\n",
    "    ax.scatter(x_axis,y_axis,label=i)\n",
    "\n",
    "    ax.legend()\n",
    "    ax.grid(True)\n",
    "\n",
    "    plt.xlabel('x')\n",
    "    plt.ylabel('y')"
   ]
  },
  {
   "cell_type": "code",
   "execution_count": 5,
   "metadata": {},
   "outputs": [
    {
     "data": {
      "text/plain": [
       "Text(0.5, 1.0, 'Grupo 4')"
      ]
     },
     "execution_count": 5,
     "metadata": {},
     "output_type": "execute_result"
    },
    {
     "data": {
      "image/png": "[encoded data removed]",
      "text/plain": [
       "<Figure size 842.4x595.44 with 4 Axes>"
      ]
     },
     "metadata": {},
     "output_type": "display_data"
    }
   ],
   "source": [
    "#extrayendo por grupo se tienen los siguientes scatter\n",
    "x1,y1 = df.loc[df['grupo']=='Grupo_1']['x'], df.loc[df['grupo']=='Grupo_1']['y']\n",
    "\n",
    "x2,y2 = df.loc[df['grupo']=='Grupo_2']['x'], df.loc[df['grupo']=='Grupo_2']['y']\n",
    "\n",
    "x3,y3 = df.loc[df['grupo']=='Grupo_3']['x'], df.loc[df['grupo']=='Grupo_3']['y']\n",
    "\n",
    "x4,y4 = df.loc[df['grupo']=='Grupo_4']['x'], df.loc[df['grupo']=='Grupo_4']['y']\n",
    "\n",
    "\n",
    "plt.subplot(221)\n",
    "plt.scatter(x1,y1,color='blue')\n",
    "plt.title('Grupo 1')\n",
    "\n",
    "plt.subplot(222)\n",
    "plt.scatter(x2,y2,color='orange')\n",
    "plt.title('Grupo 2')\n",
    "\n",
    "plt.subplot(223)\n",
    "plt.scatter(x3,y3,color='green')\n",
    "plt.title('Grupo 3')\n",
    "\n",
    "plt.subplot(224)\n",
    "g_y4=plt.scatter(x4,y4,color='red')\n",
    "plt.title('Grupo 4')"
   ]
  },
  {
   "cell_type": "markdown",
   "metadata": {},
   "source": [
    "¿Los grupos son muy distintos entre si?"
   ]
  },
  {
   "cell_type": "markdown",
   "metadata": {},
   "source": [
    "Respuesta: Si, por inspección notar la dispersión que tienen cada gráfico."
   ]
  },
  {
   "cell_type": "markdown",
   "metadata": {},
   "source": [
    "## Pregunta 2"
   ]
  },
  {
   "cell_type": "markdown",
   "metadata": {},
   "source": [
    "Realice un resumen de las medidas estadísticas más significativas ocuapando el comando **describe** para cada grupo. Interprete."
   ]
  },
  {
   "cell_type": "code",
   "execution_count": 6,
   "metadata": {},
   "outputs": [
    {
     "name": "stdout",
     "output_type": "stream",
     "text": [
      "Grupo_1\n",
      "               x          y\n",
      "count  11.000000  11.000000\n",
      "mean    9.000000   7.500909\n",
      "std     3.316625   2.031568\n",
      "min     4.000000   4.260000\n",
      "25%     6.500000   6.315000\n",
      "50%     9.000000   7.580000\n",
      "75%    11.500000   8.570000\n",
      "max    14.000000  10.840000\n",
      "\n",
      "Grupo_2\n",
      "               x          y\n",
      "count  11.000000  11.000000\n",
      "mean    9.000000   7.500909\n",
      "std     3.316625   2.031657\n",
      "min     4.000000   3.100000\n",
      "25%     6.500000   6.695000\n",
      "50%     9.000000   8.140000\n",
      "75%    11.500000   8.950000\n",
      "max    14.000000   9.260000\n",
      "\n",
      "Grupo_3\n",
      "               x          y\n",
      "count  11.000000  11.000000\n",
      "mean    9.000000   7.500000\n",
      "std     3.316625   2.030424\n",
      "min     4.000000   5.390000\n",
      "25%     6.500000   6.250000\n",
      "50%     9.000000   7.110000\n",
      "75%    11.500000   7.980000\n",
      "max    14.000000  12.740000\n",
      "\n",
      "Grupo_4\n",
      "               x          y\n",
      "count  11.000000  11.000000\n",
      "mean    9.000000   7.500909\n",
      "std     3.316625   2.030579\n",
      "min     8.000000   5.250000\n",
      "25%     8.000000   6.170000\n",
      "50%     8.000000   7.040000\n",
      "75%     8.000000   8.190000\n",
      "max    19.000000  12.500000\n",
      "\n"
     ]
    }
   ],
   "source": [
    "for i in range(1,5):\n",
    "    i = \"Grupo_\" + str(i)\n",
    "    print(i)\n",
    "    print(df.loc[df['grupo']== i].describe())\n",
    "    print()"
   ]
  },
  {
   "cell_type": "markdown",
   "metadata": {},
   "source": [
    "## Pregunta 3"
   ]
  },
  {
   "cell_type": "markdown",
   "metadata": {},
   "source": [
    "Realice un ajuste lineal para cada grupo. Además, grafique los resultados de la regresión lineal para cada grupo. Interprete"
   ]
  },
  {
   "cell_type": "code",
   "execution_count": 7,
   "metadata": {},
   "outputs": [
    {
     "data": {
      "image/png": "[encoded data removed]",
      "text/plain": [
       "<Figure size 842.4x595.44 with 4 Axes>"
      ]
     },
     "metadata": {},
     "output_type": "display_data"
    }
   ],
   "source": [
    "from sklearn.linear_model import LinearRegression\n",
    "\n",
    "datos = [[x1,y1],[x2,y2],[x3,y3],[x4,y4]]\n",
    "model_rl = LinearRegression()               # Creando el modelo.\n",
    "\n",
    "for i in range(0,4):\n",
    "    recta = model_rl.fit(pd.DataFrame(datos[i][0]), pd.DataFrame(datos[i][1]))\n",
    "    beta_0, beta_1 = recta.intercept_, recta.coef_[0]\n",
    "    \n",
    "    plt.subplot(2,2,i+1)\n",
    "    plt.scatter(datos[i][0], datos[i][1])    #dispersion\n",
    "    x_range = np.arange(1,25,0.1)            #rango data\n",
    "    plt.plot(x_range, beta_0 + beta_1*x_range) #recta de ajuste"
   ]
  },
  {
   "cell_type": "markdown",
   "metadata": {},
   "source": [
    "## Pregunta 4"
   ]
  },
  {
   "cell_type": "markdown",
   "metadata": {},
   "source": [
    "Calcule los resultados de las métricas para cada grupo. Interprete."
   ]
  },
  {
   "cell_type": "code",
   "execution_count": 8,
   "metadata": {},
   "outputs": [],
   "source": [
    "import statsmodels.api as sm\n",
    "from metrics_regression import *\n",
    "from sklearn.metrics import r2_score"
   ]
  },
  {
   "cell_type": "code",
   "execution_count": 9,
   "metadata": {
    "scrolled": false
   },
   "outputs": [
    {
     "name": "stdout",
     "output_type": "stream",
     "text": [
      "                            OLS Regression Results                            \n",
      "==============================================================================\n",
      "Dep. Variable:                      y   R-squared:                       0.667\n",
      "Model:                            OLS   Adj. R-squared:                  0.629\n",
      "Method:                 Least Squares   F-statistic:                     17.99\n",
      "Date:                Wed, 10 Nov 2021   Prob (F-statistic):            0.00217\n",
      "Time:                        02:53:00   Log-Likelihood:                -16.841\n",
      "No. Observations:                  11   AIC:                             37.68\n",
      "Df Residuals:                       9   BIC:                             38.48\n",
      "Df Model:                           1                                         \n",
      "Covariance Type:            nonrobust                                         \n",
      "==============================================================================\n",
      "                 coef    std err          t      P>|t|      [0.025      0.975]\n",
      "------------------------------------------------------------------------------\n",
      "const          3.0001      1.125      2.667      0.026       0.456       5.544\n",
      "x              0.5001      0.118      4.241      0.002       0.233       0.767\n",
      "==============================================================================\n",
      "Omnibus:                        0.082   Durbin-Watson:                   3.212\n",
      "Prob(Omnibus):                  0.960   Jarque-Bera (JB):                0.289\n",
      "Skew:                          -0.122   Prob(JB):                        0.865\n",
      "Kurtosis:                       2.244   Cond. No.                         29.1\n",
      "==============================================================================\n",
      "\n",
      "Notes:\n",
      "[1] Standard Errors assume that the covariance matrix of the errors is correctly specified.\n",
      "\n",
      "Metricas para el grupo 1:\n",
      "\n",
      "      mae     mse    rmse    mape  maape   wmape   mmape   smape\n",
      "0  0.8373  1.2512  1.1185  0.1213  0.119  0.1116  0.1048  0.1167\n"
     ]
    },
    {
     "name": "stderr",
     "output_type": "stream",
     "text": [
      "C:\\Users\\danny\\anaconda3\\envs\\MAT281_2\\lib\\site-packages\\scipy\\stats\\stats.py:1541: UserWarning: kurtosistest only valid for n>=20 ... continuing anyway, n=11\n",
      "  warnings.warn(\"kurtosistest only valid for n>=20 ... continuing \"\n"
     ]
    }
   ],
   "source": [
    "# Para el GRUPO 1\n",
    "result_group1 = sm.OLS(y1, sm.add_constant(x1)).fit()\n",
    "print(result_group1.summary())\n",
    "print('\\nMetricas para el grupo 1:\\n')\n",
    "\n",
    "lista1 = []\n",
    "for i in model_rl.predict(pd.DataFrame(x1)).tolist():\n",
    "    lista1.append(i[0])\n",
    "\n",
    "df_temp1 = pd.DataFrame({'y':y1, 'yhat': lista1})\n",
    "print(summary_metrics(df_temp1))"
   ]
  },
  {
   "cell_type": "markdown",
   "metadata": {},
   "source": [
    "**Interpretación:** Notese que el valor \"mmape\" (Mean absolute percentage error) es cercano al 10%, por lo que el modelo lineal se ajusta de buena forma a los datos entregados por el Grupo 1."
   ]
  },
  {
   "cell_type": "code",
   "execution_count": 10,
   "metadata": {
    "scrolled": false
   },
   "outputs": [
    {
     "name": "stdout",
     "output_type": "stream",
     "text": [
      "                            OLS Regression Results                            \n",
      "==============================================================================\n",
      "Dep. Variable:                      y   R-squared:                       0.666\n",
      "Model:                            OLS   Adj. R-squared:                  0.629\n",
      "Method:                 Least Squares   F-statistic:                     17.97\n",
      "Date:                Wed, 10 Nov 2021   Prob (F-statistic):            0.00218\n",
      "Time:                        02:53:00   Log-Likelihood:                -16.846\n",
      "No. Observations:                  11   AIC:                             37.69\n",
      "Df Residuals:                       9   BIC:                             38.49\n",
      "Df Model:                           1                                         \n",
      "Covariance Type:            nonrobust                                         \n",
      "==============================================================================\n",
      "                 coef    std err          t      P>|t|      [0.025      0.975]\n",
      "------------------------------------------------------------------------------\n",
      "const          3.0009      1.125      2.667      0.026       0.455       5.547\n",
      "x              0.5000      0.118      4.239      0.002       0.233       0.767\n",
      "==============================================================================\n",
      "Omnibus:                        1.594   Durbin-Watson:                   2.188\n",
      "Prob(Omnibus):                  0.451   Jarque-Bera (JB):                1.108\n",
      "Skew:                          -0.567   Prob(JB):                        0.575\n",
      "Kurtosis:                       1.936   Cond. No.                         29.1\n",
      "==============================================================================\n",
      "\n",
      "Notes:\n",
      "[1] Standard Errors assume that the covariance matrix of the errors is correctly specified.\n",
      "\n",
      "Metricas para el grupo 2:\n",
      "\n",
      "      mae     mse    rmse   mape   maape  wmape   mmape   smape\n",
      "0  0.9679  1.2524  1.1191  0.157  0.1504  0.129  0.1315  0.1438\n"
     ]
    },
    {
     "name": "stderr",
     "output_type": "stream",
     "text": [
      "C:\\Users\\danny\\anaconda3\\envs\\MAT281_2\\lib\\site-packages\\scipy\\stats\\stats.py:1541: UserWarning: kurtosistest only valid for n>=20 ... continuing anyway, n=11\n",
      "  warnings.warn(\"kurtosistest only valid for n>=20 ... continuing \"\n"
     ]
    }
   ],
   "source": [
    "# Para el GRUPO 2\n",
    "result_group2 = sm.OLS(y2, sm.add_constant(x2)).fit()\n",
    "print(result_group2.summary())\n",
    "print('\\nMetricas para el grupo 2:\\n')\n",
    "\n",
    "lista2 = []\n",
    "for i in model_rl.predict(pd.DataFrame(x2)).tolist():\n",
    "    lista2.append(i[0])\n",
    "\n",
    "df_temp2 = pd.DataFrame({'y':y2, 'yhat': lista2})\n",
    "print(summary_metrics(df_temp2))"
   ]
  },
  {
   "cell_type": "markdown",
   "metadata": {},
   "source": [
    "**Interpretación:** Notese que el valor \"mmape\" en este caso es cercano al 15%, pero se tiene un coeficiente de correlacion del 0.66, por lo que el modelo lineal no se ajusta de muy buena forma a los datos entregados por el Grupo 2."
   ]
  },
  {
   "cell_type": "code",
   "execution_count": 11,
   "metadata": {
    "scrolled": false
   },
   "outputs": [
    {
     "name": "stdout",
     "output_type": "stream",
     "text": [
      "                            OLS Regression Results                            \n",
      "==============================================================================\n",
      "Dep. Variable:                      y   R-squared:                       0.666\n",
      "Model:                            OLS   Adj. R-squared:                  0.629\n",
      "Method:                 Least Squares   F-statistic:                     17.97\n",
      "Date:                Wed, 10 Nov 2021   Prob (F-statistic):            0.00218\n",
      "Time:                        02:53:00   Log-Likelihood:                -16.838\n",
      "No. Observations:                  11   AIC:                             37.68\n",
      "Df Residuals:                       9   BIC:                             38.47\n",
      "Df Model:                           1                                         \n",
      "Covariance Type:            nonrobust                                         \n",
      "==============================================================================\n",
      "                 coef    std err          t      P>|t|      [0.025      0.975]\n",
      "------------------------------------------------------------------------------\n",
      "const          3.0025      1.124      2.670      0.026       0.459       5.546\n",
      "x              0.4997      0.118      4.239      0.002       0.233       0.766\n",
      "==============================================================================\n",
      "Omnibus:                       19.540   Durbin-Watson:                   2.144\n",
      "Prob(Omnibus):                  0.000   Jarque-Bera (JB):               13.478\n",
      "Skew:                           2.041   Prob(JB):                      0.00118\n",
      "Kurtosis:                       6.571   Cond. No.                         29.1\n",
      "==============================================================================\n",
      "\n",
      "Notes:\n",
      "[1] Standard Errors assume that the covariance matrix of the errors is correctly specified.\n",
      "\n",
      "Metricas para el grupo 3:\n",
      "\n",
      "      mae     mse    rmse    mape   maape   wmape   mmape   smape\n",
      "0  0.7165  1.2506  1.1183  0.0798  0.0791  0.0955  0.0713  0.0815\n"
     ]
    },
    {
     "name": "stderr",
     "output_type": "stream",
     "text": [
      "C:\\Users\\danny\\anaconda3\\envs\\MAT281_2\\lib\\site-packages\\scipy\\stats\\stats.py:1541: UserWarning: kurtosistest only valid for n>=20 ... continuing anyway, n=11\n",
      "  warnings.warn(\"kurtosistest only valid for n>=20 ... continuing \"\n"
     ]
    }
   ],
   "source": [
    "# Para el GRUPO 3\n",
    "result_group3 = sm.OLS(y3, sm.add_constant(x3)).fit()\n",
    "print(result_group3.summary())\n",
    "print('\\nMetricas para el grupo 3:\\n')\n",
    "\n",
    "lista3 = []\n",
    "for i in model_rl.predict(pd.DataFrame(x3)).tolist():\n",
    "    lista3.append(i[0])\n",
    "\n",
    "df_temp3 = pd.DataFrame({'y':y3, 'yhat': lista3})\n",
    "print(summary_metrics(df_temp3))"
   ]
  },
  {
   "cell_type": "markdown",
   "metadata": {},
   "source": [
    "**Interpretación:** Notese que el valor \"mmape\" es cercano al 7%, por lo que posee errores porcentuales demasiados bajos, pero lamentablemnte tenemos un coeficiente de correlacion del 0.66, lo cual hace referncia a que quizas haya un outlier que haya afectado al correcto ajuste del modelo lineal para el Grupo 3."
   ]
  },
  {
   "cell_type": "code",
   "execution_count": 12,
   "metadata": {
    "scrolled": false
   },
   "outputs": [
    {
     "name": "stdout",
     "output_type": "stream",
     "text": [
      "                            OLS Regression Results                            \n",
      "==============================================================================\n",
      "Dep. Variable:                      y   R-squared:                       0.667\n",
      "Model:                            OLS   Adj. R-squared:                  0.630\n",
      "Method:                 Least Squares   F-statistic:                     18.00\n",
      "Date:                Wed, 10 Nov 2021   Prob (F-statistic):            0.00216\n",
      "Time:                        02:53:00   Log-Likelihood:                -16.833\n",
      "No. Observations:                  11   AIC:                             37.67\n",
      "Df Residuals:                       9   BIC:                             38.46\n",
      "Df Model:                           1                                         \n",
      "Covariance Type:            nonrobust                                         \n",
      "==============================================================================\n",
      "                 coef    std err          t      P>|t|      [0.025      0.975]\n",
      "------------------------------------------------------------------------------\n",
      "const          3.0017      1.124      2.671      0.026       0.459       5.544\n",
      "x              0.4999      0.118      4.243      0.002       0.233       0.766\n",
      "==============================================================================\n",
      "Omnibus:                        0.555   Durbin-Watson:                   1.662\n",
      "Prob(Omnibus):                  0.758   Jarque-Bera (JB):                0.524\n",
      "Skew:                           0.010   Prob(JB):                        0.769\n",
      "Kurtosis:                       1.931   Cond. No.                         29.1\n",
      "==============================================================================\n",
      "\n",
      "Notes:\n",
      "[1] Standard Errors assume that the covariance matrix of the errors is correctly specified.\n",
      "\n",
      "Metricas para el grupo 4:\n",
      "\n",
      "      mae     mse    rmse    mape   maape   wmape   mmape   smape\n",
      "0  0.9027  1.2493  1.1177  0.1347  0.1324  0.1203  0.1167  0.1303\n"
     ]
    },
    {
     "name": "stderr",
     "output_type": "stream",
     "text": [
      "C:\\Users\\danny\\anaconda3\\envs\\MAT281_2\\lib\\site-packages\\scipy\\stats\\stats.py:1541: UserWarning: kurtosistest only valid for n>=20 ... continuing anyway, n=11\n",
      "  warnings.warn(\"kurtosistest only valid for n>=20 ... continuing \"\n"
     ]
    }
   ],
   "source": [
    "# Para el GRUPO 4\n",
    "result_group4 = sm.OLS(y4, sm.add_constant(x4)).fit()\n",
    "print(result_group4.summary())\n",
    "print('\\nMetricas para el grupo 4:\\n')\n",
    "\n",
    "lista4 = []\n",
    "for i in model_rl.predict(pd.DataFrame(x4)).tolist():\n",
    "    lista4.append(i[0])\n",
    "\n",
    "df_temp4 = pd.DataFrame({'y':y4, 'yhat': lista4})\n",
    "print(summary_metrics(df_temp4))"
   ]
  },
  {
   "cell_type": "markdown",
   "metadata": {},
   "source": [
    "**Interpretación:** Notese que, viendo el grafico, lamentablemente no se tiene una idea de correcta función que interpole de manera correcta los datos que ahi se presentan, estan muy cercanos entre si, pero lamentablemente uno sobre otro verticalmente, lo cual, sumado al error de correlación de 0,66, hace que el modelo lineal (y a priori, ninguno) se ajuste a los datos presentados."
   ]
  },
  {
   "cell_type": "markdown",
   "metadata": {},
   "source": [
    "## Pregunta 5"
   ]
  },
  {
   "cell_type": "markdown",
   "metadata": {},
   "source": [
    "Es claro que el ajuste lineal para algunos grupos no es el correcto. Existen varias formas de solucionar este problema (eliminar outliers, otros modelos, etc.). Identifique una estrategia para que el modelo de regresión lineal ajuste de mejor manera e implemente otros modelos en los casos que encuentre necesario."
   ]
  },
  {
   "cell_type": "markdown",
   "metadata": {},
   "source": [
    "**Solucion:** Adaptaremos de mejor manera cada grafico, particularmente para los tres primeros, se sigue:"
   ]
  },
  {
   "cell_type": "code",
   "execution_count": 13,
   "metadata": {},
   "outputs": [
    {
     "data": {
      "text/plain": [
       "0.6665288123176956"
      ]
     },
     "execution_count": 13,
     "metadata": {},
     "output_type": "execute_result"
    }
   ],
   "source": [
    "#Para los datos de Grupo 1, haremos un reg_lasso de modo de discrimiar si es mejor o peor que sin hacerlo\n",
    "from sklearn import linear_model\n",
    "\n",
    "data = df.loc[df[\"grupo\"]==\"Grupo_1\"]\n",
    "X, y = data[[\"x\"]], data[[\"y\"]]\n",
    "\n",
    "reg_lasso = linear_model.Ridge(alpha=.5)\n",
    "reg_lasso= reg_lasso.fit(X,y)\n",
    "y_pred = reg_lasso.predict(X)\n",
    "\n",
    "r2_score(y, y_pred)"
   ]
  },
  {
   "cell_type": "markdown",
   "metadata": {},
   "source": [
    "Notese que se mantuvo, por lo que no hay diferencia entre usarlo y no, a gusto del consumidor:)"
   ]
  },
  {
   "cell_type": "code",
   "execution_count": 14,
   "metadata": {},
   "outputs": [
    {
     "name": "stderr",
     "output_type": "stream",
     "text": [
      "C:\\Users\\danny\\anaconda3\\envs\\MAT281_2\\lib\\site-packages\\sklearn\\base.py:445: UserWarning: X does not have valid feature names, but PolynomialFeatures was fitted with feature names\n",
      "  warnings.warn(\n"
     ]
    },
    {
     "data": {
      "image/png": "[encoded data removed]",
      "text/plain": [
       "<Figure size 842.4x595.44 with 1 Axes>"
      ]
     },
     "metadata": {},
     "output_type": "display_data"
    },
    {
     "name": "stdout",
     "output_type": "stream",
     "text": [
      "\n",
      "Metricas para el regresor:\n",
      "\n",
      "      mae  mse   rmse    mape   maape   wmape   mmape   smape   r2\n",
      "0  0.0009  0.0  0.001  0.0001  0.0001  0.0001  0.0001  0.0001  1.0\n"
     ]
    }
   ],
   "source": [
    "#Para los datos del Grupo 2, notemos que el metodo lineal no es de muy buen ajuste para los datos, por lo que\n",
    "# haremos un ajuste polinomial, de modo de ajustar mejor, se sigue\n",
    "from sklearn.preprocessing import PolynomialFeatures\n",
    "from sklearn.model_selection import train_test_split\n",
    "from sklearn.pipeline import make_pipeline\n",
    "data2 = df.loc[df[\"grupo\"]==\"Grupo_2\"]\n",
    "X,y = data2[[\"x\"]], data2[\"y\"]\n",
    "X_train, X_test, y_train, y_test = train_test_split(X, y, test_size=0.2, random_state=42)\n",
    "\n",
    "grado = 2\n",
    "polyreg = make_pipeline(PolynomialFeatures(grado),LinearRegression())\n",
    "plt.figure()\n",
    "plt.scatter(X,y)\n",
    "\n",
    "X_seq = np.linspace(0,20,300).reshape(-1,1)\n",
    "polyreg.fit(X,y)\n",
    "\n",
    "plt.plot(X_seq,polyreg.predict(X_seq),color=\"yellow\")\n",
    "plt.title(\"Regresión Polinomial Grado \"+str(grado))\n",
    "plt.show()\n",
    "\n",
    "# Metricas para medición\n",
    "df_temp = pd.DataFrame({'y':y_test, 'yhat': polyreg.predict(X_test)})\n",
    "df_metrics = summary_metrics(df_temp)\n",
    "df_metrics['r2'] =  round(r2_score(y_test,polyreg.predict(X_test)),4)\n",
    "print('\\nMetricas para el regresor:\\n')\n",
    "print(df_metrics)"
   ]
  },
  {
   "cell_type": "markdown",
   "metadata": {},
   "source": [
    "Notar que el ajuste hecho es casi perfecto, se ajusta demasiado bien a los datos entregados y por sobre todo tenemos un r^2=1, pudiendo concluir que es mucho mejor que un ajuste lineal."
   ]
  },
  {
   "cell_type": "code",
   "execution_count": 15,
   "metadata": {},
   "outputs": [
    {
     "data": {
      "image/png": "[encoded data removed]",
      "text/plain": [
       "<Figure size 792x612 with 1 Axes>"
      ]
     },
     "metadata": {},
     "output_type": "display_data"
    },
    {
     "data": {
      "text/plain": [
       "0.999993107581533"
      ]
     },
     "execution_count": 15,
     "metadata": {},
     "output_type": "execute_result"
    }
   ],
   "source": [
    "#Para los datos del Grupo 3, notemos que podemos eliminar ciertos outliers de modo de mejorar la recta de ajuste, se sigue\n",
    "data3 = df.loc[df[\"grupo\"]==\"Grupo_3\"]\n",
    "mask = data3[\"y\"]<12           #eliminamos outlaier\n",
    "data3 = data3[mask]\n",
    "X, y = data3[[\"x\"]], data3[[\"y\"]]\n",
    "\n",
    "modelo_rl = LinearRegression() #Creamos el modelo de RL.\n",
    "modelo_rl.fit(X, y) \n",
    "\n",
    "beta_0, beta_1 = modelo_rl.intercept_[0], modelo_rl.coef_[0]\n",
    "\n",
    "x_range = np.arange(3,15,0.5)\n",
    "df_plot = pd.DataFrame({'x':x_range, 'y_true':[beta_0 + beta_1[0]*n for n in x_range]})\n",
    "df2 = pd.DataFrame({'x':X['x'],'y_true':y['y']})\n",
    "\n",
    "fig, ax = plt.subplots(figsize=(11, 8.5))\n",
    "sns.scatterplot(x='x', y='y_true', data=df2, ax=ax,color=\"red\")\n",
    "sns.lineplot(x='x', y='y_true', data=df_plot,ax=ax,color=\"yellow\")\n",
    "\n",
    "plt.title('Nueva Regresión Lineal para Grupo 3')\n",
    "plt.xlabel('x')\n",
    "plt.ylabel('y')\n",
    "plt.show()\n",
    "\n",
    "# Metricas\n",
    "y_pred = modelo_rl.predict(X)\n",
    "r2_score(y, y_pred)"
   ]
  },
  {
   "cell_type": "markdown",
   "metadata": {},
   "source": [
    "Notar que el ajuste hecho quitando el outlier sobre 12 es casi perfecto, se ajusta demasiado bien a los datos entregados y tenemos un r2_score casi cercano a uno, lo cual ajusta de excelente manera los datos para el Grupo 3."
   ]
  },
  {
   "cell_type": "markdown",
   "metadata": {},
   "source": [
    "**Para el Grupo 4:** Notar que no hay ninguna recta vertical que sea \"funcion\", habria que cambiar la orientacion de los ejes (\"x\" por \"y\"), pero nos afecta a los demas graficos para los demas grupos, por lo que, de poder hacerlo SOLAMENTE para este Grupo, entonces hacemos el mismo proceso de arriba, quitando los outlier extremos y ajustando lo mas posible la curva de modo que se pueda inferir los datos por sobre esa recta."
   ]
  }
 ],
 "metadata": {
  "kernelspec": {
   "display_name": "Python 3 (ipykernel)",
   "language": "python",
   "name": "python3"
  },
  "language_info": {
   "codemirror_mode": {
    "name": "ipython",
    "version": 3
   },
   "file_extension": ".py",
   "mimetype": "text/x-python",
   "name": "python",
   "nbconvert_exporter": "python",
   "pygments_lexer": "ipython3",
   "version": "3.8.11"
  }
 },
 "nbformat": 4,
 "nbformat_minor": 4
}
